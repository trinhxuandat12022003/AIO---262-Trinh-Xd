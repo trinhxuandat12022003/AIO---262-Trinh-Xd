{
 "cells": [
  {
   "cell_type": "markdown",
   "metadata": {},
   "source": [
    "# Bài tập 1"
   ]
  },
  {
   "cell_type": "code",
   "execution_count": 1,
   "metadata": {},
   "outputs": [
    {
     "name": "stdout",
     "output_type": "stream",
     "text": [
      "[624.1, 175.10000000000002, 300.5, 78.9]\n"
     ]
    }
   ],
   "source": [
    "import numpy as np\n",
    "import matplotlib.pyplot as plt\n",
    "import random\n",
    "\n",
    "\n",
    "def get_column(data, index):\n",
    "\n",
    "    # your code here ****************************\n",
    "    result = [row[index] for row in data]\n",
    "    return result\n",
    "\n",
    "\n",
    "def prepare_data(file_name_dataset):\n",
    "    data = np.genfromtxt(file_name_dataset, delimiter=',',\n",
    "                         skip_header=1).tolist()\n",
    "    N = len(data)\n",
    "\n",
    "    # get tv ( index =0)\n",
    "    tv_data = get_column(data, 0)\n",
    "\n",
    "    # get radio ( index =1)\n",
    "    radio_data = get_column(data, 1)\n",
    "\n",
    "    # get newspaper ( index =2)\n",
    "    newspaper_data = get_column(data, 2)\n",
    "    # get sales ( index =3)\n",
    "    sales_data = get_column(data, 3)\n",
    "\n",
    "    # building X input and y output for training\n",
    "    X = [tv_data, radio_data, newspaper_data]\n",
    "    y = sales_data\n",
    "    return X, y\n",
    "\n",
    "\n",
    "X, y = prepare_data('advertising.csv')\n",
    "list = [sum(X[0][:5]), sum(X[1][:5]), sum(X[2][:5]), sum(y[:5])]\n",
    "print(list)"
   ]
  },
  {
   "cell_type": "markdown",
   "metadata": {},
   "source": [
    "# Bài tập 2"
   ]
  },
  {
   "cell_type": "code",
   "execution_count": 12,
   "metadata": {},
   "outputs": [],
   "source": [
    "# 2.1\n",
    "def initialize_params():\n",
    "    w1, w2, w3, b = (0.016992259082509283,\n",
    "                     0.0070783670518262355, -0.002307860847821344, 0)\n",
    "    return w1, w2, w3, b"
   ]
  },
  {
   "cell_type": "code",
   "execution_count": 13,
   "metadata": {},
   "outputs": [
    {
     "name": "stdout",
     "output_type": "stream",
     "text": [
      "1.0\n"
     ]
    }
   ],
   "source": [
    "# 2.2\n",
    "def predict(x1, x2, x3, w1, w2, w3, b):\n",
    "    # your code here ****************************\n",
    "\n",
    "    return w1*x1 + w2*x2 + w3*x3 + b\n",
    "\n",
    "\n",
    "y = predict(x1=1, x2=1, x3=1, w1=0, w2=0.5, w3=0, b=0.5)\n",
    "print(y)"
   ]
  },
  {
   "cell_type": "code",
   "execution_count": 19,
   "metadata": {},
   "outputs": [
    {
     "name": "stdout",
     "output_type": "stream",
     "text": [
      "0.25\n"
     ]
    }
   ],
   "source": [
    "# 2.3\n",
    "def compute_loss_mse(y_hat, y):\n",
    "    # your code here ****************************\n",
    "\n",
    "    return (y_hat - y)**2\n",
    "\n",
    "\n",
    "l = compute_loss_mse(y_hat=1, y=0.5)\n",
    "print(l)"
   ]
  },
  {
   "cell_type": "code",
   "execution_count": 15,
   "metadata": {},
   "outputs": [
    {
     "name": "stdout",
     "output_type": "stream",
     "text": [
      "-1.0\n",
      "-3.0\n"
     ]
    }
   ],
   "source": [
    "# 2.4\n",
    "# compute gradient\n",
    "def compute_gradient_wi(xi, y, y_hat):\n",
    "    dl_dwi = 2*xi*(y_hat - y)\n",
    "    return dl_dwi\n",
    "\n",
    "\n",
    "def compute_gradient_b(y, y_hat):\n",
    "    dl_db = 2*(y_hat - y)\n",
    "    return dl_db\n",
    "\n",
    "\n",
    "g_wi = compute_gradient_wi(xi=1.0, y=1.0, y_hat=0.5)\n",
    "print(g_wi)\n",
    "g_b = compute_gradient_b(y=2.0, y_hat=0.5)\n",
    "print(g_b)"
   ]
  },
  {
   "cell_type": "code",
   "execution_count": 16,
   "metadata": {},
   "outputs": [
    {
     "name": "stdout",
     "output_type": "stream",
     "text": [
      "1.000005\n",
      "0.50001\n",
      "1.000005\n"
     ]
    }
   ],
   "source": [
    "# 2.5\n",
    "# update weights\n",
    "def update_weight_wi(wi, dl_dwi, lr):\n",
    "    # your code here ****************************\n",
    "    wi = wi - lr * dl_dwi\n",
    "    return wi\n",
    "\n",
    "\n",
    "def update_weight_b(b, dl_db, lr):\n",
    "    # your code here ****************************\n",
    "    b = b - lr*dl_db\n",
    "    return b\n",
    "\n",
    "\n",
    "after_wi = update_weight_wi(wi=1.0, dl_dwi=-0.5, lr=1e-5)\n",
    "print(after_wi)\n",
    "after_b = update_weight_b(b=0.5, dl_db=-1.0, lr=1e-5)\n",
    "print(after_b)\n",
    "print(after_wi)"
   ]
  },
  {
   "cell_type": "code",
   "execution_count": 20,
   "metadata": {},
   "outputs": [],
   "source": [
    "def implement_linear_regression ( X_data , y_data , epoch_max = 50 , lr = 1e-5) :\n",
    "    losses = []\n",
    "\n",
    "    w1 , w2 , w3 , b = initialize_params()\n",
    "\n",
    "    N = len( y_data )\n",
    "    for epoch in range ( epoch_max ) :\n",
    "        for i in range ( N ) :\n",
    "            # get a sample\n",
    "            x1 = X_data [0][ i ]\n",
    "            x2 = X_data [1][ i ]\n",
    "            x3 = X_data [2][ i ]\n",
    "            y = y_data [ i ]\n",
    "\n",
    "            # compute output\n",
    "            y_hat = predict ( x1 , x2 , x3 , w1 , w2 , w3 , b )\n",
    "\n",
    "            # compute loss\n",
    "            loss = compute_loss_mse (y , y_hat )\n",
    "            # compute gradient w1 , w2 , w3 , b\n",
    "            dl_dw1 = compute_gradient_wi ( x1 , y , y_hat )\n",
    "            dl_dw2 = compute_gradient_wi ( x2 , y , y_hat )\n",
    "            dl_dw3 = compute_gradient_wi ( x3 , y , y_hat )\n",
    "            dl_db = compute_gradient_b (y , y_hat )\n",
    "\n",
    "            # update parameters\n",
    "            w1 = update_weight_wi ( w1 , dl_dw1 , lr )\n",
    "            w2 = update_weight_wi ( w2 , dl_dw2 , lr )\n",
    "            w3 = update_weight_wi ( w3 , dl_dw3 , lr )\n",
    "            b = update_weight_b (b , dl_db , lr )\n",
    "\n",
    "            # logging\n",
    "            losses.append(loss)\n",
    "    return (w1, w2, w3, b, losses )"
   ]
  },
  {
   "cell_type": "code",
   "execution_count": 21,
   "metadata": {},
   "outputs": [
    {
     "data": {
      "image/png": "[encoded data removed]",
      "text/plain": [
       "<Figure size 640x480 with 1 Axes>"
      ]
     },
     "metadata": {},
     "output_type": "display_data"
    }
   ],
   "source": [
    "# 2.6\n",
    "X,y = prepare_data('advertising.csv')\n",
    "(w1, w2, w3, b, losses) = implement_linear_regression(X, y)\n",
    "plt.plot(losses[:100])\n",
    "plt.xlabel(\"#iteration\")\n",
    "plt.ylabel(\"Loss\")\n",
    "plt.show()"
   ]
  },
  {
   "cell_type": "code",
   "execution_count": 22,
   "metadata": {},
   "outputs": [
    {
     "name": "stdout",
     "output_type": "stream",
     "text": [
      "0.07405984066396477 0.15917360263437663 0.017561197559948935\n"
     ]
    }
   ],
   "source": [
    "X,y = prepare_data('advertising.csv')\n",
    "(w1,w2,w3,b, losses) = implement_linear_regression(X,y)\n",
    "print(w1,w2,w3)"
   ]
  },
  {
   "cell_type": "code",
   "execution_count": 23,
   "metadata": {},
   "outputs": [
    {
     "name": "stdout",
     "output_type": "stream",
     "text": [
      "predicted sales is 8.176413319549823\n"
     ]
    }
   ],
   "source": [
    "# given new data\n",
    "tv = 19.2\n",
    "radio = 35.9 \n",
    "newspaper = 51.3\n",
    "\n",
    "X,y = prepare_data('advertising.csv')\n",
    "(w1,w2,w3,b, losses) = implement_linear_regression(X,y)\n",
    "sales = predict(tv, radio, newspaper, w1, w2, w3, b)\n",
    "print(f'predicted sales is {sales}')"
   ]
  },
  {
   "cell_type": "code",
   "execution_count": 26,
   "metadata": {},
   "outputs": [],
   "source": [
    "def compute_loss_mae(y, y_hat):\n",
    "    return np.abs(y_hat - y)"
   ]
  },
  {
   "cell_type": "markdown",
   "metadata": {},
   "source": [
    "# Bài tập 3"
   ]
  },
  {
   "cell_type": "code",
   "execution_count": 27,
   "metadata": {},
   "outputs": [],
   "source": [
    "def implement_linear_regression_nsamples(X_data, y_data, epoch_max=50, lr=1e-5):\n",
    "    losses = []\n",
    "\n",
    "    w1, w2, w3, b = initialize_params()\n",
    "    N = len(y_data)\n",
    "\n",
    "    for epoch in range(epoch_max):\n",
    "\n",
    "        loss_total = 0.0\n",
    "        dw1_total = 0.0\n",
    "        dw2_total = 0.0\n",
    "        dw3_total = 0.0\n",
    "        db_total = 0.0\n",
    "\n",
    "        for i in range(N):\n",
    "            # get a sample\n",
    "            x1 = X_data[0][i]\n",
    "            x2 = X_data[1][i]\n",
    "            x3 = X_data[2][i]\n",
    "\n",
    "            y = y_data[i]\n",
    "\n",
    "            # print(y)\n",
    "            # compute output\n",
    "            y_hat = predict(x1, x2, x3, w1, w2, w3, b)\n",
    "\n",
    "            # compute loss\n",
    "            loss = compute_loss_mae(y, y_hat)\n",
    "            loss_total = loss_total + loss\n",
    "\n",
    "            # accumulate loss to total loss\n",
    "            # your code here *****************************\n",
    "\n",
    "            # compute gradient w1, w2, w3, b\n",
    "            dl_dw1 = compute_gradient_wi(x1, y, y_hat)\n",
    "            dl_dw2 = compute_gradient_wi(x2, y, y_hat)\n",
    "            dl_dw3 = compute_gradient_wi(x3, y, y_hat)\n",
    "            dl_db = compute_gradient_b(y, y_hat)\n",
    "\n",
    "           # accumulate gradient w1, w2, w3, b\n",
    "           # your code here *****************************\n",
    "            dw1_total = dw1_total + dl_dw1\n",
    "            dw2_total = dw2_total + dl_dw2\n",
    "            dw3_total = dw3_total + dl_dw3\n",
    "            db_total = db_total + dl_db\n",
    "\n",
    "        # (after processing N samples) - update parameters\n",
    "        # your code here *****************************\n",
    "        w1 = update_weight_wi(w1, dl_dw1/N, lr)\n",
    "        w2 = update_weight_wi(w2, dl_dw2/N, lr)\n",
    "        w3 = update_weight_wi(w3, dl_dw3/N, lr)\n",
    "        # logging\n",
    "        losses.append(loss_total/N)\n",
    "    return (w1, w2, w3, b, losses)"
   ]
  },
  {
   "cell_type": "code",
   "execution_count": 28,
   "metadata": {},
   "outputs": [
    {
     "data": {
      "image/png": "[encoded data removed]",
      "text/plain": [
       "<Figure size 640x480 with 1 Axes>"
      ]
     },
     "metadata": {},
     "output_type": "display_data"
    }
   ],
   "source": [
    "X,y = prepare_data('advertising.csv')\n",
    "(w1,w2,w3,b, losses) = implement_linear_regression_nsamples(X,y,1000)\n",
    "plt.plot(losses)\n",
    "plt.xlabel(\"#epoch\")\n",
    "plt.ylabel(\"MAE Loss\")\n",
    "plt.show()"
   ]
  },
  {
   "cell_type": "code",
   "execution_count": 29,
   "metadata": {},
   "outputs": [
    {
     "name": "stdout",
     "output_type": "stream",
     "text": [
      "0.07865323031529436 0.00936309067354943 3.4293276428081508e-06\n"
     ]
    }
   ],
   "source": [
    "#Question 11:\n",
    "X,y = prepare_data('advertising.csv')\n",
    "(w1,w2,w3,b, losses) = implement_linear_regression_nsamples(X,y,1000)\n",
    "print(w1,w2,w3)"
   ]
  },
  {
   "cell_type": "markdown",
   "metadata": {},
   "source": [
    "# Bài tập 4"
   ]
  },
  {
   "cell_type": "code",
   "execution_count": 55,
   "metadata": {},
   "outputs": [],
   "source": [
    "def prepare_data(file_name_dataset):\n",
    "  data = np.genfromtxt(file_name_dataset, delimiter=',', skip_header=1).tolist()\n",
    "\n",
    "  # get tv (index=0)\n",
    "  tv_data = get_column(data, 0)\n",
    "\n",
    "  # get radio (index=1)\n",
    "  radio_data = get_column(data, 1)\n",
    "\n",
    "  # get newspaper (index=2)\n",
    "  newspaper_data = get_column(data, 2)\n",
    "\n",
    "  # get sales (index=3)\n",
    "  sales_data = get_column(data, 3)\n",
    "\n",
    "  # building X input  and y output for training\n",
    "  #Create list of features for input\n",
    "  X = [[1, x1, x2, x3] for x1, x2, x3 in zip(tv_data, radio_data, newspaper_data)]\n",
    "  y = sales_data\n",
    "  return X,y"
   ]
  },
  {
   "cell_type": "code",
   "execution_count": 56,
   "metadata": {},
   "outputs": [],
   "source": [
    "def initialize_params():\n",
    "    bias = 0\n",
    "    w1 = random.gauss(mu=0.0, sigma=0.01)\n",
    "    w2 = random.gauss(mu=0.0, sigma=0.01)\n",
    "    w3 = random.gauss(mu=0.0, sigma=0.01)\n",
    "    \n",
    "    return [0, 0.016992259082509283, 0.0070783670518262355, -0.002307860847821344]\n",
    "    # return [bias, w1, w2, w3] "
   ]
  },
  {
   "cell_type": "code",
   "execution_count": 60,
   "metadata": {},
   "outputs": [],
   "source": [
    "# Predict ouput by using y = x0*b + x1*w1 + x2*w2 + x3*w3\n",
    "\n",
    "def predict(X_features, weights):\n",
    "  return sum([f*w for f,w in zip(X_features, weights)])\n",
    "\n",
    "\n",
    "def compute_loss(y_hat, y):\n",
    "  return (y_hat - y)**2\n",
    "\n",
    "# compute gradient\n",
    "\n",
    "\n",
    "def compute_gradient_w(X_features, y, y_hat):\n",
    "  dl_dweights = [2*xi(y_hat - y) for xi in X_features]\n",
    "  return dl_dweights\n",
    "\n",
    "# update weights\n",
    "\n",
    "\n",
    "def update_weight(weights, dl_dweights, lr):\n",
    "   # your code here *************************\n",
    "  weights = [w - lr * dw for w, dw in zip(weights, dl_dweights)] \n",
    "  return weights"
   ]
  },
  {
   "cell_type": "code",
   "execution_count": 63,
   "metadata": {},
   "outputs": [],
   "source": [
    "def implement_linear_regression(X_feature, y_ouput, epoch_max = 50,lr = 1e-5):\n",
    "\n",
    "  losses = []\n",
    "  weights = initialize_params()\n",
    "  N = len(y_ouput)\n",
    "  for epoch in range(epoch_max):\n",
    "      print(\"epoch\", epoch)\n",
    "      for i in range(N):\n",
    "          # get a sample - row i     \n",
    "          features_i = X_feature[i]\n",
    "          y = y_ouput[i]\n",
    "          \n",
    "          # compute output \n",
    "          y_hat = predict(features_i, weights)\n",
    "\n",
    "          # compute loss\n",
    "          loss = compute_loss(y, y_hat)\n",
    "\n",
    "          # compute gradient w1, w2, w3, b\n",
    "          dl_dweights = compute_gradient_w(features_i, y, y_hat)\n",
    "\n",
    "          # update parameters\n",
    "          weights = update_weight(weights, dl_dweights, lr)\n",
    "\n",
    "          # logging\n",
    "          losses.append(loss) \n",
    "  return weights, losses\n"
   ]
  },
  {
   "cell_type": "code",
   "execution_count": 64,
   "metadata": {},
   "outputs": [
    {
     "name": "stdout",
     "output_type": "stream",
     "text": [
      "epoch 0\n"
     ]
    },
    {
     "ename": "TypeError",
     "evalue": "'int' object is not callable",
     "output_type": "error",
     "traceback": [
      "\u001b[1;31m---------------------------------------------------------------------------\u001b[0m",
      "\u001b[1;31mTypeError\u001b[0m                                 Traceback (most recent call last)",
      "Cell \u001b[1;32mIn[64], line 2\u001b[0m\n\u001b[0;32m      1\u001b[0m X,y \u001b[38;5;241m=\u001b[39m prepare_data(\u001b[38;5;124m'\u001b[39m\u001b[38;5;124madvertising.csv\u001b[39m\u001b[38;5;124m'\u001b[39m)\n\u001b[1;32m----> 2\u001b[0m W,L \u001b[38;5;241m=\u001b[39m \u001b[43mimplement_linear_regression\u001b[49m\u001b[43m(\u001b[49m\u001b[43mX\u001b[49m\u001b[43m,\u001b[49m\u001b[43my\u001b[49m\u001b[43m)\u001b[49m\n\u001b[0;32m      3\u001b[0m plt\u001b[38;5;241m.\u001b[39mplot(L[\u001b[38;5;241m0\u001b[39m:\u001b[38;5;241m100\u001b[39m])\n\u001b[0;32m      4\u001b[0m plt\u001b[38;5;241m.\u001b[39mxlabel(\u001b[38;5;124m\"\u001b[39m\u001b[38;5;124m#iteration\u001b[39m\u001b[38;5;124m\"\u001b[39m)\n",
      "Cell \u001b[1;32mIn[63], line 20\u001b[0m, in \u001b[0;36mimplement_linear_regression\u001b[1;34m(X_feature, y_ouput, epoch_max, lr)\u001b[0m\n\u001b[0;32m     17\u001b[0m loss \u001b[38;5;241m=\u001b[39m compute_loss(y, y_hat)\n\u001b[0;32m     19\u001b[0m \u001b[38;5;66;03m# compute gradient w1, w2, w3, b\u001b[39;00m\n\u001b[1;32m---> 20\u001b[0m dl_dweights \u001b[38;5;241m=\u001b[39m \u001b[43mcompute_gradient_w\u001b[49m\u001b[43m(\u001b[49m\u001b[43mfeatures_i\u001b[49m\u001b[43m,\u001b[49m\u001b[43m \u001b[49m\u001b[43my\u001b[49m\u001b[43m,\u001b[49m\u001b[43m \u001b[49m\u001b[43my_hat\u001b[49m\u001b[43m)\u001b[49m[i]\n\u001b[0;32m     22\u001b[0m \u001b[38;5;66;03m# update parameters\u001b[39;00m\n\u001b[0;32m     23\u001b[0m weights \u001b[38;5;241m=\u001b[39m update_weight(weights, dl_dweights, lr)\n",
      "Cell \u001b[1;32mIn[60], line 14\u001b[0m, in \u001b[0;36mcompute_gradient_w\u001b[1;34m(X_features, y, y_hat)\u001b[0m\n\u001b[0;32m     13\u001b[0m \u001b[38;5;28;01mdef\u001b[39;00m \u001b[38;5;21mcompute_gradient_w\u001b[39m(X_features, y, y_hat):\n\u001b[1;32m---> 14\u001b[0m   dl_dweights \u001b[38;5;241m=\u001b[39m [\u001b[38;5;241m2\u001b[39m\u001b[38;5;241m*\u001b[39mxi(y_hat \u001b[38;5;241m-\u001b[39m y) \u001b[38;5;28;01mfor\u001b[39;00m xi \u001b[38;5;129;01min\u001b[39;00m X_features]\n\u001b[0;32m     15\u001b[0m   \u001b[38;5;28;01mreturn\u001b[39;00m dl_dweights\n",
      "Cell \u001b[1;32mIn[60], line 14\u001b[0m, in \u001b[0;36m<listcomp>\u001b[1;34m(.0)\u001b[0m\n\u001b[0;32m     13\u001b[0m \u001b[38;5;28;01mdef\u001b[39;00m \u001b[38;5;21mcompute_gradient_w\u001b[39m(X_features, y, y_hat):\n\u001b[1;32m---> 14\u001b[0m   dl_dweights \u001b[38;5;241m=\u001b[39m [\u001b[38;5;241m2\u001b[39m\u001b[38;5;241m*\u001b[39m\u001b[43mxi\u001b[49m\u001b[43m(\u001b[49m\u001b[43my_hat\u001b[49m\u001b[43m \u001b[49m\u001b[38;5;241;43m-\u001b[39;49m\u001b[43m \u001b[49m\u001b[43my\u001b[49m\u001b[43m)\u001b[49m \u001b[38;5;28;01mfor\u001b[39;00m xi \u001b[38;5;129;01min\u001b[39;00m X_features]\n\u001b[0;32m     15\u001b[0m   \u001b[38;5;28;01mreturn\u001b[39;00m dl_dweights\n",
      "\u001b[1;31mTypeError\u001b[0m: 'int' object is not callable"
     ]
    }
   ],
   "source": [
    "X,y = prepare_data('advertising.csv')\n",
    "W,L = implement_linear_regression(X,y)\n",
    "plt.plot(L[0:100])\n",
    "plt.xlabel(\"#iteration\")\n",
    "plt.ylabel(\"Loss\")\n",
    "plt.show()"
   ]
  },
  {
   "cell_type": "markdown",
   "metadata": {},
   "source": []
  }
 ],
 "metadata": {
  "kernelspec": {
   "display_name": "AIO_excercise",
   "language": "python",
   "name": "python3"
  },
  "language_info": {
   "codemirror_mode": {
    "name": "ipython",
    "version": 3
   },
   "file_extension": ".py",
   "mimetype": "text/x-python",
   "name": "python",
   "nbconvert_exporter": "python",
   "pygments_lexer": "ipython3",
   "version": "3.10.14"
  }
 },
 "nbformat": 4,
 "nbformat_minor": 2
}
